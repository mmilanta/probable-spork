{
 "cells": [
  {
   "cell_type": "code",
   "execution_count": 2,
   "metadata": {},
   "outputs": [],
   "source": [
    "from proby import point\n",
    "import matplotlib.pyplot as plt\n",
    "import numpy as np"
   ]
  },
  {
   "cell_type": "code",
   "execution_count": 3,
   "metadata": {},
   "outputs": [],
   "source": [
    "@point\n",
    "def tp(x):\n",
    "    return True\n",
    "\n",
    "\n",
    "@point\n",
    "def with_advantages(x):\n",
    "    pp = [0, 0]\n",
    "    while max(pp) < 7 or abs(pp[0] - pp[1]) < 2:\n",
    "        pp[tp(x)] += 1\n",
    "        if max(pp) > 12:\n",
    "            break\n",
    "    return pp[1] > pp[0]\n",
    "\n",
    "\n",
    "@point\n",
    "def without_advantages(x):\n",
    "    pp = [0, 0]\n",
    "    while max(pp) < 8:\n",
    "        pp[tp(x)] += 1\n",
    "    return pp[1] > pp[0]\n",
    "\n",
    "\n",
    "with_advantages.compute_tree()\n",
    "without_advantages.compute_tree()"
   ]
  },
  {
   "cell_type": "code",
   "execution_count": 37,
   "metadata": {},
   "outputs": [],
   "source": [
    "@point\n",
    "def tp1(x):\n",
    "    return True\n",
    "\n",
    "@point\n",
    "def tp2(x):\n",
    "    return False\n",
    "\n",
    "\n",
    "@point\n",
    "def tie_break(x):\n",
    "    pp = [0, 0]\n",
    "    i = 0\n",
    "    while max(pp) < 11:\n",
    "        i += 1\n",
    "        if (i//2) % 2:\n",
    "            pp[tp2(x)] += 1\n",
    "        else:\n",
    "            pp[tp1(x)] += 1\n",
    "    return pp[1] > pp[0]\n",
    "\n",
    "@point\n",
    "def tie_break_advantages(x):\n",
    "    pp = [0, 0]\n",
    "    i = 0\n",
    "    while max(pp) < 7 or abs(pp[0] - pp[1]) < 2:\n",
    "        i += 1\n",
    "        if (i//2) % 2:\n",
    "            pp[tp2(x)] += 1\n",
    "        else:\n",
    "            pp[tp1(x)] += 1\n",
    "\n",
    "        if max(pp) > 12:\n",
    "            break\n",
    "    return pp[1] > pp[0]\n",
    "tie_break.compute_tree()"
   ]
  },
  {
   "cell_type": "code",
   "execution_count": 38,
   "metadata": {},
   "outputs": [
    {
     "data": {
      "text/plain": [
       "0.0"
      ]
     },
     "execution_count": 38,
     "metadata": {},
     "output_type": "execute_result"
    }
   ],
   "source": [
    "tp2.probability(base_point={})"
   ]
  },
  {
   "cell_type": "code",
   "execution_count": 41,
   "metadata": {},
   "outputs": [
    {
     "data": {
      "text/plain": [
       "True"
      ]
     },
     "execution_count": 41,
     "metadata": {},
     "output_type": "execute_result"
    }
   ],
   "source": [
    "1==1==1"
   ]
  },
  {
   "cell_type": "code",
   "execution_count": 45,
   "metadata": {},
   "outputs": [
    {
     "data": {
      "image/png": "[encoded data removed]",
      "text/plain": [
       "<Figure size 432x288 with 1 Axes>"
      ]
     },
     "metadata": {
      "needs_background": "light"
     },
     "output_type": "display_data"
    }
   ],
   "source": [
    "ps = np.arange(0.5, 0.8, 0.01)\n",
    "def logit(x):\n",
    "    return np.log(np.abs(x/(1-x)))\n",
    "for P in [with_advantages, without_advantages, tp]:\n",
    "    plt.plot(ps, abs(np.array([P.probability(base_point={tp: p}) for p in ps])), label=P)\n",
    "plt.legend()\n",
    "plt.grid()"
   ]
  },
  {
   "cell_type": "code",
   "execution_count": 14,
   "metadata": {},
   "outputs": [
    {
     "name": "stdout",
     "output_type": "stream",
     "text": [
      "0\n",
      "1\n",
      "1\n",
      "0\n",
      "0\n",
      "1\n",
      "1\n",
      "0\n",
      "0\n",
      "1\n"
     ]
    }
   ],
   "source": [
    "i = 0\n",
    "while i<10:\n",
    "    i += 1\n",
    "    print((i//2) % 2)"
   ]
  },
  {
   "cell_type": "code",
   "execution_count": null,
   "metadata": {},
   "outputs": [],
   "source": []
  }
 ],
 "metadata": {
  "kernelspec": {
   "display_name": "venv",
   "language": "python",
   "name": "python3"
  },
  "language_info": {
   "codemirror_mode": {
    "name": "ipython",
    "version": 3
   },
   "file_extension": ".py",
   "mimetype": "text/x-python",
   "name": "python",
   "nbconvert_exporter": "python",
   "pygments_lexer": "ipython3",
   "version": "3.12.6"
  }
 },
 "nbformat": 4,
 "nbformat_minor": 2
}
